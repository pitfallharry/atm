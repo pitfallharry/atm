{
 "cells": [
  {
   "cell_type": "code",
   "execution_count": 1,
   "metadata": {},
   "outputs": [],
   "source": [
    "from atm import Stop"
   ]
  },
  {
   "cell_type": "code",
   "execution_count": 2,
   "metadata": {},
   "outputs": [],
   "source": [
    "s = Stop(11161)"
   ]
  },
  {
   "cell_type": "code",
   "execution_count": 3,
   "metadata": {},
   "outputs": [
    {
     "name": "stdout",
     "output_type": "stream",
     "text": [
      "Fermata 11161 (Alzaia Nav. Pavese, 60) | 2020-04-17 18:09:18.696364\n",
      "-\n"
     ]
    }
   ],
   "source": [
    "s.description()"
   ]
  },
  {
   "cell_type": "code",
   "execution_count": 4,
   "metadata": {},
   "outputs": [
    {
     "name": "stdout",
     "output_type": "stream",
     "text": [
      "\u001b[31m11161 - Alzaia Nav. Pavese, 60\u001b[0m\n",
      "+---------+------------------------------+-----------+\n",
      "|   Linea | Descrizione                  | Attesa    |\n",
      "+=========+==============================+===========+\n",
      "|      59 | P.ta Lodovica - Famagosta M2 | ricalcolo |\n",
      "+---------+------------------------------+-----------+\n",
      "|      71 | Famagosta M2 - Romolo M2     | serale    |\n",
      "+---------+------------------------------+-----------+\n",
      " - 2020-04-17 18:09:18.696364 - \n"
     ]
    }
   ],
   "source": [
    "s.waitmessage('grid')"
   ]
  },
  {
   "cell_type": "code",
   "execution_count": 5,
   "metadata": {},
   "outputs": [
    {
     "data": {
      "text/plain": [
       "(9.176054951924698, 45.44497959284472)"
      ]
     },
     "execution_count": 5,
     "metadata": {},
     "output_type": "execute_result"
    }
   ],
   "source": [
    "s.position()"
   ]
  },
  {
   "cell_type": "code",
   "execution_count": 6,
   "metadata": {},
   "outputs": [
    {
     "data": {
      "text/plain": [
       "['59', '71']"
      ]
     },
     "execution_count": 6,
     "metadata": {},
     "output_type": "execute_result"
    }
   ],
   "source": [
    "s.lines()"
   ]
  },
  {
   "cell_type": "code",
   "execution_count": 7,
   "metadata": {},
   "outputs": [],
   "source": [
    "s.update()"
   ]
  },
  {
   "cell_type": "code",
   "execution_count": 8,
   "metadata": {},
   "outputs": [
    {
     "name": "stdout",
     "output_type": "stream",
     "text": [
      "\u001b[31m11161 - Alzaia Nav. Pavese, 60\u001b[0m\n",
      "<table>\n",
      "<thead>\n",
      "<tr><th style=\"text-align: right;\">  Linea</th><th>Descrizione                 </th><th>Attesa  </th></tr>\n",
      "</thead>\n",
      "<tbody>\n",
      "<tr><td style=\"text-align: right;\">     59</td><td>P.ta Lodovica - Famagosta M2</td><td>11 min  </td></tr>\n",
      "<tr><td style=\"text-align: right;\">     71</td><td>Famagosta M2 - Romolo M2    </td><td>serale  </td></tr>\n",
      "</tbody>\n",
      "</table>\n",
      " - 2020-04-17 18:10:51.344567 - \n"
     ]
    }
   ],
   "source": [
    "s.waitmessage('html')"
   ]
  },
  {
   "cell_type": "code",
   "execution_count": 9,
   "metadata": {},
   "outputs": [],
   "source": [
    "from atm import distance"
   ]
  },
  {
   "cell_type": "code",
   "execution_count": 10,
   "metadata": {},
   "outputs": [],
   "source": [
    "s1 = Stop(12402)"
   ]
  },
  {
   "cell_type": "code",
   "execution_count": 11,
   "metadata": {},
   "outputs": [],
   "source": [
    "s2 = Stop(12400)"
   ]
  },
  {
   "cell_type": "code",
   "execution_count": 12,
   "metadata": {},
   "outputs": [
    {
     "data": {
      "text/plain": [
       "0.1354349258943788"
      ]
     },
     "execution_count": 12,
     "metadata": {},
     "output_type": "execute_result"
    }
   ],
   "source": [
    "distance(s1,s2)"
   ]
  },
  {
   "cell_type": "code",
   "execution_count": 13,
   "metadata": {},
   "outputs": [],
   "source": [
    "from atm import Line"
   ]
  },
  {
   "cell_type": "code",
   "execution_count": 14,
   "metadata": {},
   "outputs": [],
   "source": [
    "l = Line(73)"
   ]
  },
  {
   "cell_type": "code",
   "execution_count": 15,
   "metadata": {},
   "outputs": [
    {
     "name": "stdout",
     "output_type": "stream",
     "text": [
      "Linea Bus 73 Aeroporto Linate - Duomo M1 M3\n",
      "-\n"
     ]
    }
   ],
   "source": [
    "l.description()"
   ]
  },
  {
   "cell_type": "code",
   "execution_count": 16,
   "metadata": {},
   "outputs": [
    {
     "data": {
      "text/plain": [
       "['12926',\n",
       " '12921',\n",
       " '12854',\n",
       " '12852',\n",
       " '18119',\n",
       " '12647',\n",
       " '12405',\n",
       " '12400',\n",
       " '12391',\n",
       " '12127',\n",
       " '12125',\n",
       " '12111',\n",
       " '12098',\n",
       " '12095',\n",
       " '11820',\n",
       " '17854',\n",
       " '18155',\n",
       " '17769',\n",
       " '17855',\n",
       " '16929']"
      ]
     },
     "execution_count": 16,
     "metadata": {},
     "output_type": "execute_result"
    }
   ],
   "source": [
    "l.stops()"
   ]
  },
  {
   "cell_type": "code",
   "execution_count": 17,
   "metadata": {},
   "outputs": [
    {
     "name": "stdout",
     "output_type": "stream",
     "text": [
      "\u001b[31mBus 73 Aeroporto Linate - Duomo M1 M3\u001b[0m\n",
      "<table>\n",
      "<thead>\n",
      "<tr><th style=\"text-align: right;\">  Fermata</th><th>Descrizione                                 </th></tr>\n",
      "</thead>\n",
      "<tbody>\n",
      "<tr><td style=\"text-align: right;\">    12926</td><td>Aeroporto di Linate  Segrate                </td></tr>\n",
      "<tr><td style=\"text-align: right;\">    12921</td><td>V.le Forlanini Via Circonvallazione  Segrate</td></tr>\n",
      "<tr><td style=\"text-align: right;\">    12854</td><td>V.le Forlanini  Aeronautica Militare        </td></tr>\n",
      "<tr><td style=\"text-align: right;\">    12852</td><td>V.le Forlanini  Tangenziale Est             </td></tr>\n",
      "<tr><td style=\"text-align: right;\">    18119</td><td>V.le Forlanini P.za Artigianato             </td></tr>\n",
      "<tr><td style=\"text-align: right;\">    12647</td><td>Forlanini                                   </td></tr>\n",
      "<tr><td style=\"text-align: right;\">    12405</td><td>V.le Corsica Via Lomellina                  </td></tr>\n",
      "<tr><td style=\"text-align: right;\">    12400</td><td>V.le Corsica Via Battistotti Sassi          </td></tr>\n",
      "<tr><td style=\"text-align: right;\">    12391</td><td>V.le Campania V.le Corsica                  </td></tr>\n",
      "<tr><td style=\"text-align: right;\">    12127</td><td>P.za Grandi                                 </td></tr>\n",
      "<tr><td style=\"text-align: right;\">    12125</td><td>P.za Emilia                                 </td></tr>\n",
      "<tr><td style=\"text-align: right;\">    12111</td><td>Via Cadore C.so Ventidue Marzo              </td></tr>\n",
      "<tr><td style=\"text-align: right;\">    12098</td><td>P.za S.Maria del Suffragio                  </td></tr>\n",
      "<tr><td style=\"text-align: right;\">    12095</td><td>P.za 5 Giornate                             </td></tr>\n",
      "<tr><td style=\"text-align: right;\">    11820</td><td>C.so P.ta Vittoria  Camera del Lavoro       </td></tr>\n",
      "<tr><td style=\"text-align: right;\">    17854</td><td>Via Battisti                                </td></tr>\n",
      "<tr><td style=\"text-align: right;\">    18155</td><td>L.go Augusto                                </td></tr>\n",
      "<tr><td style=\"text-align: right;\">    17769</td><td>Via Larga                                   </td></tr>\n",
      "<tr><td style=\"text-align: right;\">    17855</td><td>P.za Velasca                                </td></tr>\n",
      "<tr><td style=\"text-align: right;\">    16929</td><td>Duomo M1 M3                                 </td></tr>\n",
      "</tbody>\n",
      "</table>\n"
     ]
    }
   ],
   "source": [
    "l.path('html')"
   ]
  },
  {
   "cell_type": "code",
   "execution_count": 18,
   "metadata": {},
   "outputs": [],
   "source": [
    "l.reverse()"
   ]
  },
  {
   "cell_type": "code",
   "execution_count": 19,
   "metadata": {},
   "outputs": [
    {
     "name": "stdout",
     "output_type": "stream",
     "text": [
      "\u001b[31mBus 73 Duomo M1 M3 - Aeroporto Linate\u001b[0m\n",
      "+-----------+----------------------------------------------+\n",
      "|   Fermata | Descrizione                                  |\n",
      "+===========+==============================================+\n",
      "|     16929 | Duomo M1 M3                                  |\n",
      "+-----------+----------------------------------------------+\n",
      "|     11794 | Via Larga                                    |\n",
      "+-----------+----------------------------------------------+\n",
      "|     11798 | L.go Augusto                                 |\n",
      "+-----------+----------------------------------------------+\n",
      "|     11816 | Palazzo di Giustizia                         |\n",
      "+-----------+----------------------------------------------+\n",
      "|     11823 | C.so P.ta Vittoria  Camera del Lavoro        |\n",
      "+-----------+----------------------------------------------+\n",
      "|     12094 | P.za 5 Giornate                              |\n",
      "+-----------+----------------------------------------------+\n",
      "|     12099 | P.za S.Maria del Suffragio                   |\n",
      "+-----------+----------------------------------------------+\n",
      "|     12108 | Via Cadore C.so Ventidue Marzo               |\n",
      "+-----------+----------------------------------------------+\n",
      "|     12126 | P.za Emilia                                  |\n",
      "+-----------+----------------------------------------------+\n",
      "|     12390 | P.za Grandi                                  |\n",
      "+-----------+----------------------------------------------+\n",
      "|     12392 | V.le Campania V.le Corsica                   |\n",
      "+-----------+----------------------------------------------+\n",
      "|     12402 | V.le Corsica Via Lomellina                   |\n",
      "+-----------+----------------------------------------------+\n",
      "|     12407 | V.le Corsica Via Negroli                     |\n",
      "+-----------+----------------------------------------------+\n",
      "|     12646 | Forlanini                                    |\n",
      "+-----------+----------------------------------------------+\n",
      "|     12662 | V.le Forlanini P.za Artigianato              |\n",
      "+-----------+----------------------------------------------+\n",
      "|     12851 | V.le Forlanini  Tangenziale Est              |\n",
      "+-----------+----------------------------------------------+\n",
      "|     12853 | V.le Forlanini  Aeronautica Militare         |\n",
      "+-----------+----------------------------------------------+\n",
      "|     12922 | V.le Forlanini Via Circonvallazione  Segrate |\n",
      "+-----------+----------------------------------------------+\n",
      "|     12926 | Aeroporto di Linate  Segrate                 |\n",
      "+-----------+----------------------------------------------+\n"
     ]
    }
   ],
   "source": [
    "l.path()"
   ]
  },
  {
   "cell_type": "code",
   "execution_count": null,
   "metadata": {},
   "outputs": [],
   "source": []
  }
 ],
 "metadata": {
  "kernelspec": {
   "display_name": "Python 3",
   "language": "python",
   "name": "python3"
  },
  "language_info": {
   "codemirror_mode": {
    "name": "ipython",
    "version": 3
   },
   "file_extension": ".py",
   "mimetype": "text/x-python",
   "name": "python",
   "nbconvert_exporter": "python",
   "pygments_lexer": "ipython3",
   "version": "3.7.7"
  }
 },
 "nbformat": 4,
 "nbformat_minor": 4
}
